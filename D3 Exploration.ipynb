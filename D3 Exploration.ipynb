{
 "cells": [
  {
   "cell_type": "code",
   "execution_count": null,
   "id": "5ea4f0b4",
   "metadata": {},
   "outputs": [],
   "source": [
    "# imporing D3\n",
    "from d3blocks import D3Blocks\n",
    "# importing pandas to load and prepare my dataframe\n",
    "import pandas as pd"
   ]
  },
  {
   "cell_type": "code",
   "execution_count": 27,
   "id": "2d3813b9",
   "metadata": {},
   "outputs": [
    {
     "name": "stdout",
     "output_type": "stream",
     "text": [
      "     source  target  weight\n",
      "indx                       \n",
      "0        NV     315       6\n",
      "1        NV     315      10\n",
      "2        NV     315       6\n",
      "3        NV     315       3\n",
      "4        NV     315       6\n"
     ]
    }
   ],
   "source": [
    "# Here, I'm loading a dataset that I work with regularly these days to apply d3graph to\n",
    "df = pd.read_excel(\"oldMLI_data.xlsx\",index_col = 0, usecols = \"A,Y,X,I\")\n",
    "\n",
    "# Renaming columns and reordering them for d3graph\n",
    "df = df.rename(columns={\"number_of_lumens\": \"weight\", \"ID\": \"target\", \"Ventilation\":\"source\"})\n",
    "\n",
    "df = df[['source','target','weight']]\n",
    "# Note the 3 columns, source, target, and weight\n",
    "print(df.head())"
   ]
  },
  {
   "cell_type": "code",
   "execution_count": null,
   "id": "fa386965",
   "metadata": {},
   "outputs": [],
   "source": [
    "# Initialize Network chart and apply to the dataframe\n",
    "d3 = D3Blocks()\n",
    "d3.d3graph(df)"
   ]
  }
 ],
 "metadata": {
  "kernelspec": {
   "display_name": "Python 3 (ipykernel)",
   "language": "python",
   "name": "python3"
  },
  "language_info": {
   "codemirror_mode": {
    "name": "ipython",
    "version": 3
   },
   "file_extension": ".py",
   "mimetype": "text/x-python",
   "name": "python",
   "nbconvert_exporter": "python",
   "pygments_lexer": "ipython3",
   "version": "3.10.8"
  }
 },
 "nbformat": 4,
 "nbformat_minor": 5
}
